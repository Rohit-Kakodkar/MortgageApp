{
 "cells": [
  {
   "cell_type": "code",
   "execution_count": 86,
   "metadata": {},
   "outputs": [],
   "source": [
    "import worksheet.worksheet as worksheet\n",
    "import pandas as pd"
   ]
  },
  {
   "cell_type": "code",
   "execution_count": 87,
   "metadata": {},
   "outputs": [
    {
     "name": "stdout",
     "output_type": "stream",
     "text": [
      "Loan Worksheet\n",
      "--------------\n",
      "Monthly Payment: 3266.11\n",
      "Extra Payment: 733.89\n",
      "Closing Costs: 67882.41\n",
      "Total Mortgage Insurance: 0.00\n",
      "Years to 20% equity: 2.92\n",
      "Years to Pay Off Loan: 17.08\n"
     ]
    }
   ],
   "source": [
    "## Loan worksheet 1\n",
    "\n",
    "purchase_price = 455000 + 2956.00\n",
    "down_payment = 50000\n",
    "interest_rate = 0.06375\n",
    "duration = 30\n",
    "escrow = 6671.33 - 2956.50 - 2066.33\n",
    "fees = 11211.08 + 2066.33 + 2956.50\n",
    "additional_payments = 100 + 621\n",
    "mortgage_insurance = 0\n",
    "\n",
    "naf_with_credits = worksheet.Worksheet(purchase_price, down_payment, interest_rate, duration, escrow, fees, additional_payments, mortgage_insurance, 4000)\n",
    "naf_with_credits.print_worksheet()\n"
   ]
  },
  {
   "cell_type": "code",
   "execution_count": 94,
   "metadata": {},
   "outputs": [
    {
     "name": "stdout",
     "output_type": "stream",
     "text": [
      "Loan Worksheet\n",
      "--------------\n",
      "Monthly Payment: 3333.19\n",
      "Extra Payment: 666.81\n",
      "Closing Costs: 61703.88\n",
      "Total Mortgage Insurance: 0.00\n",
      "Years to 20% equity: 3.08\n",
      "Years to Pay Off Loan: 17.58\n"
     ]
    }
   ],
   "source": [
    "## Loan worksheet 2\n",
    "\n",
    "purchase_price = 455000 + 2956\n",
    "down_payment = 50000\n",
    "interest_rate = 0.06625\n",
    "duration = 30\n",
    "escrow = 4605 - 2956.50\n",
    "fees = 7098.88 + 2956.50 \n",
    "additional_payments = 100 + 621\n",
    "mortgage_insurance = 0\n",
    "\n",
    "naf_without_credits = worksheet.Worksheet(purchase_price, down_payment, interest_rate, duration, escrow, fees, additional_payments, mortgage_insurance, 4000)\n",
    "naf_without_credits.print_worksheet()"
   ]
  },
  {
   "cell_type": "code",
   "execution_count": 89,
   "metadata": {},
   "outputs": [
    {
     "name": "stdout",
     "output_type": "stream",
     "text": [
      "Worksheet 2 is better if you refinance within 7.68 year\n"
     ]
    },
    {
     "data": {
      "text/html": [
       "<div>\n",
       "<style scoped>\n",
       "    .dataframe tbody tr th:only-of-type {\n",
       "        vertical-align: middle;\n",
       "    }\n",
       "\n",
       "    .dataframe tbody tr th {\n",
       "        vertical-align: top;\n",
       "    }\n",
       "\n",
       "    .dataframe thead th {\n",
       "        text-align: right;\n",
       "    }\n",
       "</style>\n",
       "<table border=\"1\" class=\"dataframe\">\n",
       "  <thead>\n",
       "    <tr style=\"text-align: right;\">\n",
       "      <th></th>\n",
       "      <th>Worksheet 1</th>\n",
       "      <th>Worksheet 2</th>\n",
       "    </tr>\n",
       "  </thead>\n",
       "  <tbody>\n",
       "    <tr>\n",
       "      <th>Monthly Payment</th>\n",
       "      <td>4000.000000</td>\n",
       "      <td>4000.000000</td>\n",
       "    </tr>\n",
       "    <tr>\n",
       "      <th>Book Monthly Payment</th>\n",
       "      <td>3266.114684</td>\n",
       "      <td>3333.186984</td>\n",
       "    </tr>\n",
       "    <tr>\n",
       "      <th>Total Costs</th>\n",
       "      <td>67882.410000</td>\n",
       "      <td>61703.880000</td>\n",
       "    </tr>\n",
       "    <tr>\n",
       "      <th>Closing Costs</th>\n",
       "      <td>67882.410000</td>\n",
       "      <td>61703.880000</td>\n",
       "    </tr>\n",
       "    <tr>\n",
       "      <th>Mortgage Insurance</th>\n",
       "      <td>0.000000</td>\n",
       "      <td>0.000000</td>\n",
       "    </tr>\n",
       "    <tr>\n",
       "      <th>Months to Pay Off Mortgage Insurance</th>\n",
       "      <td>35.000000</td>\n",
       "      <td>37.000000</td>\n",
       "    </tr>\n",
       "  </tbody>\n",
       "</table>\n",
       "</div>"
      ],
      "text/plain": [
       "                                       Worksheet 1   Worksheet 2\n",
       "Monthly Payment                        4000.000000   4000.000000\n",
       "Book Monthly Payment                   3266.114684   3333.186984\n",
       "Total Costs                           67882.410000  61703.880000\n",
       "Closing Costs                         67882.410000  61703.880000\n",
       "Mortgage Insurance                        0.000000      0.000000\n",
       "Months to Pay Off Mortgage Insurance     35.000000     37.000000"
      ]
     },
     "execution_count": 89,
     "metadata": {},
     "output_type": "execute_result"
    }
   ],
   "source": [
    "comparison = worksheet.compare_worksheets(naf_with_credits, naf_without_credits)\n",
    "comparison"
   ]
  },
  {
   "cell_type": "code",
   "execution_count": 97,
   "metadata": {},
   "outputs": [
    {
     "data": {
      "text/plain": [
       "82.11111111111111"
      ]
     },
     "execution_count": 97,
     "metadata": {},
     "output_type": "execute_result"
    }
   ],
   "source": [
    "2956/36"
   ]
  },
  {
   "cell_type": "code",
   "execution_count": 95,
   "metadata": {},
   "outputs": [
    {
     "name": "stdout",
     "output_type": "stream",
     "text": [
      "Loan Worksheet\n",
      "--------------\n",
      "Monthly Payment: 3396.37\n",
      "Extra Payment: 603.63\n",
      "Closing Costs: 58747.38\n",
      "Total Mortgage Insurance: 3202.33\n",
      "Years to 20% equity: 3.25\n",
      "Years to Pay Off Loan: 18.25\n"
     ]
    }
   ],
   "source": [
    "# Loan worksheet 3\n",
    "\n",
    "purchase_price = 455000\n",
    "down_payment = 50000\n",
    "interest_rate = 0.06625\n",
    "duration = 30\n",
    "escrow = 4605 - 2956.50\n",
    "fees = 7098.88\n",
    "additional_payments = 100 + 621\n",
    "mortgage_insurance = 44.36\n",
    "\n",
    "naf_without_credits_with_mortgage_insurance = worksheet.Worksheet(purchase_price, down_payment, interest_rate, duration, escrow, fees, additional_payments, 2956/36, 4000)\n",
    "naf_without_credits_with_mortgage_insurance.print_worksheet()"
   ]
  },
  {
   "cell_type": "code",
   "execution_count": 96,
   "metadata": {},
   "outputs": [
    {
     "name": "stdout",
     "output_type": "stream",
     "text": [
      "Worksheet 1 is better than Worksheet 2\n"
     ]
    },
    {
     "data": {
      "text/html": [
       "<div>\n",
       "<style scoped>\n",
       "    .dataframe tbody tr th:only-of-type {\n",
       "        vertical-align: middle;\n",
       "    }\n",
       "\n",
       "    .dataframe tbody tr th {\n",
       "        vertical-align: top;\n",
       "    }\n",
       "\n",
       "    .dataframe thead th {\n",
       "        text-align: right;\n",
       "    }\n",
       "</style>\n",
       "<table border=\"1\" class=\"dataframe\">\n",
       "  <thead>\n",
       "    <tr style=\"text-align: right;\">\n",
       "      <th></th>\n",
       "      <th>Worksheet 1</th>\n",
       "      <th>Worksheet 2</th>\n",
       "    </tr>\n",
       "  </thead>\n",
       "  <tbody>\n",
       "    <tr>\n",
       "      <th>Monthly Payment</th>\n",
       "      <td>4000.000000</td>\n",
       "      <td>4000.000000</td>\n",
       "    </tr>\n",
       "    <tr>\n",
       "      <th>Book Monthly Payment</th>\n",
       "      <td>3333.186984</td>\n",
       "      <td>3396.370503</td>\n",
       "    </tr>\n",
       "    <tr>\n",
       "      <th>Total Costs</th>\n",
       "      <td>61703.880000</td>\n",
       "      <td>61949.713333</td>\n",
       "    </tr>\n",
       "    <tr>\n",
       "      <th>Closing Costs</th>\n",
       "      <td>61703.880000</td>\n",
       "      <td>58747.380000</td>\n",
       "    </tr>\n",
       "    <tr>\n",
       "      <th>Mortgage Insurance</th>\n",
       "      <td>0.000000</td>\n",
       "      <td>3202.333333</td>\n",
       "    </tr>\n",
       "    <tr>\n",
       "      <th>Months to Pay Off Mortgage Insurance</th>\n",
       "      <td>37.000000</td>\n",
       "      <td>39.000000</td>\n",
       "    </tr>\n",
       "  </tbody>\n",
       "</table>\n",
       "</div>"
      ],
      "text/plain": [
       "                                       Worksheet 1   Worksheet 2\n",
       "Monthly Payment                        4000.000000   4000.000000\n",
       "Book Monthly Payment                   3333.186984   3396.370503\n",
       "Total Costs                           61703.880000  61949.713333\n",
       "Closing Costs                         61703.880000  58747.380000\n",
       "Mortgage Insurance                        0.000000   3202.333333\n",
       "Months to Pay Off Mortgage Insurance     37.000000     39.000000"
      ]
     },
     "execution_count": 96,
     "metadata": {},
     "output_type": "execute_result"
    }
   ],
   "source": [
    "comparison = worksheet.compare_worksheets(naf_without_credits, naf_without_credits_with_mortgage_insurance)\n",
    "comparison"
   ]
  },
  {
   "cell_type": "code",
   "execution_count": 99,
   "metadata": {},
   "outputs": [
    {
     "name": "stdout",
     "output_type": "stream",
     "text": [
      "Loan Worksheet\n",
      "--------------\n",
      "Monthly Payment: 3360.88\n",
      "Extra Payment: 639.12\n",
      "Closing Costs: 58747.38\n",
      "Total Mortgage Insurance: 2960.00\n",
      "Years to 20% equity: 3.08\n",
      "Years to Pay Off Loan: 17.92\n"
     ]
    }
   ],
   "source": [
    "## PNC worksheet (potentially)\n",
    "\n",
    "purchase_price = 455000\n",
    "down_payment = 50000\n",
    "interest_rate = 0.0650\n",
    "duration = 30\n",
    "escrow = 4605 - 2956.50\n",
    "fees = 7098.88\n",
    "additional_payments = 100 + 621\n",
    "\n",
    "pnc = worksheet.Worksheet(purchase_price, down_payment, interest_rate, duration, escrow, fees, additional_payments, 168, 4000)\n",
    "pnc.print_worksheet()"
   ]
  },
  {
   "cell_type": "code",
   "execution_count": 100,
   "metadata": {},
   "outputs": [
    {
     "name": "stdout",
     "output_type": "stream",
     "text": [
      "Worksheet 2 is better than Worksheet 1\n"
     ]
    },
    {
     "data": {
      "text/html": [
       "<div>\n",
       "<style scoped>\n",
       "    .dataframe tbody tr th:only-of-type {\n",
       "        vertical-align: middle;\n",
       "    }\n",
       "\n",
       "    .dataframe tbody tr th {\n",
       "        vertical-align: top;\n",
       "    }\n",
       "\n",
       "    .dataframe thead th {\n",
       "        text-align: right;\n",
       "    }\n",
       "</style>\n",
       "<table border=\"1\" class=\"dataframe\">\n",
       "  <thead>\n",
       "    <tr style=\"text-align: right;\">\n",
       "      <th></th>\n",
       "      <th>Worksheet 1</th>\n",
       "      <th>Worksheet 2</th>\n",
       "    </tr>\n",
       "  </thead>\n",
       "  <tbody>\n",
       "    <tr>\n",
       "      <th>Monthly Payment</th>\n",
       "      <td>4000.000000</td>\n",
       "      <td>4000.000000</td>\n",
       "    </tr>\n",
       "    <tr>\n",
       "      <th>Book Monthly Payment</th>\n",
       "      <td>3396.370503</td>\n",
       "      <td>3360.875495</td>\n",
       "    </tr>\n",
       "    <tr>\n",
       "      <th>Total Costs</th>\n",
       "      <td>61949.713333</td>\n",
       "      <td>61707.380000</td>\n",
       "    </tr>\n",
       "    <tr>\n",
       "      <th>Closing Costs</th>\n",
       "      <td>58747.380000</td>\n",
       "      <td>58747.380000</td>\n",
       "    </tr>\n",
       "    <tr>\n",
       "      <th>Mortgage Insurance</th>\n",
       "      <td>3202.333333</td>\n",
       "      <td>2960.000000</td>\n",
       "    </tr>\n",
       "    <tr>\n",
       "      <th>Months to Pay Off Mortgage Insurance</th>\n",
       "      <td>39.000000</td>\n",
       "      <td>37.000000</td>\n",
       "    </tr>\n",
       "  </tbody>\n",
       "</table>\n",
       "</div>"
      ],
      "text/plain": [
       "                                       Worksheet 1   Worksheet 2\n",
       "Monthly Payment                        4000.000000   4000.000000\n",
       "Book Monthly Payment                   3396.370503   3360.875495\n",
       "Total Costs                           61949.713333  61707.380000\n",
       "Closing Costs                         58747.380000  58747.380000\n",
       "Mortgage Insurance                     3202.333333   2960.000000\n",
       "Months to Pay Off Mortgage Insurance     39.000000     37.000000"
      ]
     },
     "execution_count": 100,
     "metadata": {},
     "output_type": "execute_result"
    }
   ],
   "source": [
    "comparison = worksheet.compare_worksheets(naf_without_credits_with_mortgage_insurance, pnc)\n",
    "comparison"
   ]
  },
  {
   "cell_type": "code",
   "execution_count": 98,
   "metadata": {},
   "outputs": [
    {
     "data": {
      "text/plain": [
       "3583.286738304687"
      ]
     },
     "execution_count": 98,
     "metadata": {},
     "output_type": "execute_result"
    }
   ],
   "source": [
    "2956 * 1.06625**3"
   ]
  },
  {
   "cell_type": "code",
   "execution_count": null,
   "metadata": {},
   "outputs": [],
   "source": []
  }
 ],
 "metadata": {
  "kernelspec": {
   "display_name": "mortgage",
   "language": "python",
   "name": "python3"
  },
  "language_info": {
   "codemirror_mode": {
    "name": "ipython",
    "version": 3
   },
   "file_extension": ".py",
   "mimetype": "text/x-python",
   "name": "python",
   "nbconvert_exporter": "python",
   "pygments_lexer": "ipython3",
   "version": "3.9.18"
  },
  "orig_nbformat": 4
 },
 "nbformat": 4,
 "nbformat_minor": 2
}
